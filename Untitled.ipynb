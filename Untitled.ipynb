{
 "cells": [
  {
   "cell_type": "code",
   "execution_count": 1,
   "metadata": {
    "collapsed": true
   },
   "outputs": [],
   "source": [
    "import numpy as np\n",
    "import pandas as pd"
   ]
  },
  {
   "cell_type": "code",
   "execution_count": 17,
   "metadata": {},
   "outputs": [
    {
     "data": {
      "text/html": [
       "<div>\n",
       "<style>\n",
       "    .dataframe thead tr:only-child th {\n",
       "        text-align: right;\n",
       "    }\n",
       "\n",
       "    .dataframe thead th {\n",
       "        text-align: left;\n",
       "    }\n",
       "\n",
       "    .dataframe tbody tr th {\n",
       "        vertical-align: top;\n",
       "    }\n",
       "</style>\n",
       "<table border=\"1\" class=\"dataframe\">\n",
       "  <thead>\n",
       "    <tr style=\"text-align: right;\">\n",
       "      <th></th>\n",
       "      <th>Unnamed: 0</th>\n",
       "      <th>Name</th>\n",
       "      <th>Age</th>\n",
       "      <th>Birthday</th>\n",
       "      <th>Height</th>\n",
       "      <th>Weight</th>\n",
       "      <th>Rank</th>\n",
       "      <th>Country Represent</th>\n",
       "      <th>Year Turned Pro</th>\n",
       "      <th>Wins</th>\n",
       "      <th>Losses</th>\n",
       "      <th>Handed</th>\n",
       "      <th>Backhand Style</th>\n",
       "      <th>Number of Coaches</th>\n",
       "    </tr>\n",
       "  </thead>\n",
       "  <tbody>\n",
       "    <tr>\n",
       "      <th>0</th>\n",
       "      <td>3</td>\n",
       "      <td>Milos Raonic</td>\n",
       "      <td>26</td>\n",
       "      <td>1990.12.27</td>\n",
       "      <td>196</td>\n",
       "      <td>216.0</td>\n",
       "      <td>24</td>\n",
       "      <td>Podgorica, Montenegro</td>\n",
       "      <td>2008.0</td>\n",
       "      <td>288</td>\n",
       "      <td>132</td>\n",
       "      <td>Right-Handed</td>\n",
       "      <td>Two-Handed Backhand</td>\n",
       "      <td>0</td>\n",
       "    </tr>\n",
       "    <tr>\n",
       "      <th>1</th>\n",
       "      <td>5</td>\n",
       "      <td>Stan Wawrinka</td>\n",
       "      <td>32</td>\n",
       "      <td>1985.03.28</td>\n",
       "      <td>183</td>\n",
       "      <td>179.0</td>\n",
       "      <td>9</td>\n",
       "      <td>Lausanne, Switzerland</td>\n",
       "      <td>2002.0</td>\n",
       "      <td>465</td>\n",
       "      <td>262</td>\n",
       "      <td>Right-Handed</td>\n",
       "      <td>One-Handed Backhand</td>\n",
       "      <td>0</td>\n",
       "    </tr>\n",
       "    <tr>\n",
       "      <th>2</th>\n",
       "      <td>7</td>\n",
       "      <td>Rafael Nadal</td>\n",
       "      <td>31</td>\n",
       "      <td>1986.06.03</td>\n",
       "      <td>185</td>\n",
       "      <td>188.0</td>\n",
       "      <td>1</td>\n",
       "      <td>Manacor, Mallorca, Spain</td>\n",
       "      <td>2001.0</td>\n",
       "      <td>873</td>\n",
       "      <td>185</td>\n",
       "      <td>Left-Handed</td>\n",
       "      <td>Two-Handed Backhand</td>\n",
       "      <td>2</td>\n",
       "    </tr>\n",
       "    <tr>\n",
       "      <th>3</th>\n",
       "      <td>9</td>\n",
       "      <td>Kyle Edmund</td>\n",
       "      <td>22</td>\n",
       "      <td>1995.01.08</td>\n",
       "      <td>188</td>\n",
       "      <td>184.0</td>\n",
       "      <td>50</td>\n",
       "      <td>Johannesburg, South Africa</td>\n",
       "      <td>2012.0</td>\n",
       "      <td>53</td>\n",
       "      <td>63</td>\n",
       "      <td>Right-Handed</td>\n",
       "      <td>Two-Handed Backhand</td>\n",
       "      <td>1</td>\n",
       "    </tr>\n",
       "    <tr>\n",
       "      <th>4</th>\n",
       "      <td>11</td>\n",
       "      <td>Jordan Thompson</td>\n",
       "      <td>23</td>\n",
       "      <td>1994.04.20</td>\n",
       "      <td>183</td>\n",
       "      <td>161.0</td>\n",
       "      <td>94</td>\n",
       "      <td>Sydney, Australia</td>\n",
       "      <td>2013.0</td>\n",
       "      <td>16</td>\n",
       "      <td>29</td>\n",
       "      <td>Right-Handed</td>\n",
       "      <td>Two-Handed Backhand</td>\n",
       "      <td>1</td>\n",
       "    </tr>\n",
       "  </tbody>\n",
       "</table>\n",
       "</div>"
      ],
      "text/plain": [
       "   Unnamed: 0             Name  Age    Birthday  Height  Weight  Rank  \\\n",
       "0           3     Milos Raonic   26  1990.12.27     196   216.0    24   \n",
       "1           5    Stan Wawrinka   32  1985.03.28     183   179.0     9   \n",
       "2           7     Rafael Nadal   31  1986.06.03     185   188.0     1   \n",
       "3           9      Kyle Edmund   22  1995.01.08     188   184.0    50   \n",
       "4          11  Jordan Thompson   23  1994.04.20     183   161.0    94   \n",
       "\n",
       "            Country Represent  Year Turned Pro  Wins  Losses        Handed  \\\n",
       "0       Podgorica, Montenegro           2008.0   288     132  Right-Handed   \n",
       "1       Lausanne, Switzerland           2002.0   465     262  Right-Handed   \n",
       "2    Manacor, Mallorca, Spain           2001.0   873     185   Left-Handed   \n",
       "3  Johannesburg, South Africa           2012.0    53      63  Right-Handed   \n",
       "4           Sydney, Australia           2013.0    16      29  Right-Handed   \n",
       "\n",
       "        Backhand Style  Number of Coaches  \n",
       "0  Two-Handed Backhand                  0  \n",
       "1  One-Handed Backhand                  0  \n",
       "2  Two-Handed Backhand                  2  \n",
       "3  Two-Handed Backhand                  1  \n",
       "4  Two-Handed Backhand                  1  "
      ]
     },
     "execution_count": 17,
     "metadata": {},
     "output_type": "execute_result"
    }
   ],
   "source": [
    "df = pd.read_csv('Final_Player_Data.csv')\n",
    "df.head()"
   ]
  },
  {
   "cell_type": "code",
   "execution_count": 64,
   "metadata": {},
   "outputs": [],
   "source": [
    "tmp = df['Handed'].copy()\n",
    "for i,n in enumerate(df['Handed']):\n",
    "    if n == 'Right-Handed':\n",
    "        tmp[i] = 0\n",
    "    else:\n",
    "        tmp[i] = 1\n",
    "\n",
    "logmatrix = tmp.as_matrix()\n",
    "\n",
    "tmp = df['Backhand Style'].copy()\n",
    "for i,n in enumerate(df['Backhand Style']):\n",
    "    if n == 'Two-Handed Backhand':\n",
    "        tmp[i] = 0\n",
    "    else:\n",
    "        tmp[i] = 1\n",
    "        \n",
    "logmatrix = np.vstack((logmatrix,tmp))\n",
    "logmatrix = np.vstack((logmatrix,df['Number of Coaches']))\n",
    "logmatrix = np.vstack((logmatrix,df['Year Turned Pro']))\n",
    "logmatrix = np.vstack((logmatrix,df['Wins']))\n",
    "logmatrix = np.vstack((logmatrix,df['Losses']))\n",
    "logmatrix = np.vstack((logmatrix,df['Weight']))\n",
    "logmatrix = np.vstack((logmatrix,df['Height']))\n",
    "logmatrix = np.vstack((logmatrix,df['Age'])).T\n",
    "\n",
    "tmp = pd.DataFrame(logmatrix)\n",
    "tmp =tmp.fillna(0)\n",
    "logmatrix = tmp.as_matrix()\n",
    "\n",
    "rankmatrix = df['Rank'].copy()\n",
    "for i,n in enumerate(df['Rank']):\n",
    "    if n < 15:\n",
    "        rankmatrix[i] = 1\n",
    "    elif 14 < n < 30:\n",
    "        rankmatrix[i] = 1\n",
    "    elif 29 < n < 45:\n",
    "        rankmatrix[i] = 3\n",
    "    elif 44 < n < 60:\n",
    "        rankmatrix[i] = 3\n",
    "    elif 59 < n < 100:\n",
    "        rankmatrix[i] = 4\n",
    "    else:\n",
    "        rankmatrix[i] = 6\n"
   ]
  },
  {
   "cell_type": "code",
   "execution_count": 68,
   "metadata": {},
   "outputs": [
    {
     "name": "stdout",
     "output_type": "stream",
     "text": [
      "0.655705996132\n",
      "[ 0.62962963  0.64150943  0.60377358  0.57692308  0.53846154  0.69230769\n",
      "  0.60784314  0.7         0.78        0.8       ]\n"
     ]
    }
   ],
   "source": [
    "from sklearn.linear_model import LogisticRegression\n",
    "from sklearn import metrics\n",
    "from sklearn.model_selection import cross_val_score\n",
    "from sklearn.model_selection import cross_val_predict\n",
    "    \n",
    "model = LogisticRegression()\n",
    "scores = cross_val_score(model,logmatrix,rankmatrix, cv=10)\n",
    "predicted = cross_val_predict(model, logmatrix, rankmatrix, cv=10)\n",
    "print(metrics.accuracy_score(rankmatrix, predicted))\n",
    "print(scores)"
   ]
  },
  {
   "cell_type": "code",
   "execution_count": 69,
   "metadata": {},
   "outputs": [
    {
     "name": "stdout",
     "output_type": "stream",
     "text": [
      "0.398452611219\n",
      "[ 0.40740741  0.39622642  0.39622642  0.40384615  0.40384615  0.40384615\n",
      "  0.41176471  0.42        0.42        0.32      ]\n"
     ]
    }
   ],
   "source": [
    "scores = cross_val_score(model,logmatrix[:,0:2],rankmatrix, cv=10)\n",
    "predicted = cross_val_predict(model, logmatrix[:,0:2], rankmatrix, cv=10)\n",
    "print(metrics.accuracy_score(rankmatrix, predicted))\n",
    "print(scores)"
   ]
  },
  {
   "cell_type": "code",
   "execution_count": 70,
   "metadata": {},
   "outputs": [
    {
     "name": "stdout",
     "output_type": "stream",
     "text": [
      "0.58413926499\n",
      "[ 0.61111111  0.58490566  0.60377358  0.53846154  0.51923077  0.59615385\n",
      "  0.52941176  0.64        0.62        0.6       ]\n"
     ]
    }
   ],
   "source": [
    "scores = cross_val_score(model,logmatrix[:,3:8],rankmatrix, cv=10)\n",
    "predicted = cross_val_predict(model, logmatrix[:,3:8], rankmatrix, cv=10)\n",
    "print(metrics.accuracy_score(rankmatrix, predicted))\n",
    "print(scores)"
   ]
  },
  {
   "cell_type": "code",
   "execution_count": 71,
   "metadata": {
    "collapsed": true
   },
   "outputs": [],
   "source": [
    "xd = np.random.rand(517,2)"
   ]
  },
  {
   "cell_type": "code",
   "execution_count": 72,
   "metadata": {},
   "outputs": [
    {
     "name": "stdout",
     "output_type": "stream",
     "text": [
      "0.408123791103\n",
      "[ 0.40740741  0.39622642  0.39622642  0.40384615  0.40384615  0.40384615\n",
      "  0.41176471  0.42        0.42        0.42      ]\n"
     ]
    }
   ],
   "source": [
    "scores = cross_val_score(model,xd,rankmatrix, cv=10)\n",
    "predicted = cross_val_predict(model, xd, rankmatrix, cv=10)\n",
    "print(metrics.accuracy_score(rankmatrix, predicted))\n",
    "print(scores)"
   ]
  },
  {
   "cell_type": "code",
   "execution_count": null,
   "metadata": {
    "collapsed": true
   },
   "outputs": [],
   "source": []
  }
 ],
 "metadata": {
  "kernelspec": {
   "display_name": "Python 3",
   "language": "python",
   "name": "python3"
  },
  "language_info": {
   "codemirror_mode": {
    "name": "ipython",
    "version": 3
   },
   "file_extension": ".py",
   "mimetype": "text/x-python",
   "name": "python",
   "nbconvert_exporter": "python",
   "pygments_lexer": "ipython3",
   "version": "3.6.1"
  }
 },
 "nbformat": 4,
 "nbformat_minor": 2
}
